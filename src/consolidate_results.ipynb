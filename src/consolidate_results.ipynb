{
  "nbformat": 4,
  "nbformat_minor": 0,
  "metadata": {
    "colab": {
      "name": "consolidate_results.ipynb",
      "provenance": [],
      "collapsed_sections": []
    },
    "kernelspec": {
      "name": "python3",
      "display_name": "Python 3"
    }
  },
  "cells": [
    {
      "cell_type": "code",
      "metadata": {
        "id": "CiGcG1y1sMXN",
        "colab_type": "code",
        "outputId": "f1ed2680-4e9b-4690-c71f-c800f3178747",
        "colab": {
          "base_uri": "https://localhost:8080/",
          "height": 124
        }
      },
      "source": [
        "from google.colab import drive\n",
        "drive.mount('/gdrive', force_remount=True)"
      ],
      "execution_count": 0,
      "outputs": [
        {
          "output_type": "stream",
          "text": [
            "Go to this URL in a browser: https://accounts.google.com/o/oauth2/auth?client_id=947318989803-6bn6qk8qdgf4n4g3pfee6491hc0brc4i.apps.googleusercontent.com&redirect_uri=urn%3aietf%3awg%3aoauth%3a2.0%3aoob&response_type=code&scope=email%20https%3a%2f%2fwww.googleapis.com%2fauth%2fdocs.test%20https%3a%2f%2fwww.googleapis.com%2fauth%2fdrive%20https%3a%2f%2fwww.googleapis.com%2fauth%2fdrive.photos.readonly%20https%3a%2f%2fwww.googleapis.com%2fauth%2fpeopleapi.readonly\n",
            "\n",
            "Enter your authorization code:\n",
            "··········\n",
            "Mounted at /gdrive\n"
          ],
          "name": "stdout"
        }
      ]
    },
    {
      "cell_type": "code",
      "metadata": {
        "id": "KQhnZPhIsMTo",
        "colab_type": "code",
        "colab": {}
      },
      "source": [
        "PATH = '/gdrive/My Drive/poc_data/'\n",
        "FILE = 'results_final.csv'"
      ],
      "execution_count": 0,
      "outputs": []
    },
    {
      "cell_type": "code",
      "metadata": {
        "id": "t1yT3TmovHkX",
        "colab_type": "code",
        "colab": {}
      },
      "source": [
        "import pandas as pd\n",
        "import numpy as np\n",
        "from sklearn.cluster import KMeans\n",
        "import matplotlib.pyplot as plt"
      ],
      "execution_count": 0,
      "outputs": []
    },
    {
      "cell_type": "code",
      "metadata": {
        "id": "iOYvDMBQuoUb",
        "colab_type": "code",
        "outputId": "8cf479d9-026c-4b25-ef09-f0d88a44db5f",
        "colab": {
          "base_uri": "https://localhost:8080/",
          "height": 293
        }
      },
      "source": [
        "df = pd.read_csv(PATH+FILE)\n",
        "df.sample(5)"
      ],
      "execution_count": 0,
      "outputs": [
        {
          "output_type": "execute_result",
          "data": {
            "text/html": [
              "<div>\n",
              "<style scoped>\n",
              "    .dataframe tbody tr th:only-of-type {\n",
              "        vertical-align: middle;\n",
              "    }\n",
              "\n",
              "    .dataframe tbody tr th {\n",
              "        vertical-align: top;\n",
              "    }\n",
              "\n",
              "    .dataframe thead th {\n",
              "        text-align: right;\n",
              "    }\n",
              "</style>\n",
              "<table border=\"1\" class=\"dataframe\">\n",
              "  <thead>\n",
              "    <tr style=\"text-align: right;\">\n",
              "      <th></th>\n",
              "      <th>commented_out_code</th>\n",
              "      <th>file</th>\n",
              "      <th>normal_comments</th>\n",
              "      <th>project</th>\n",
              "      <th>release</th>\n",
              "      <th>release_number</th>\n",
              "      <th>total_comments</th>\n",
              "      <th>total_lines</th>\n",
              "    </tr>\n",
              "  </thead>\n",
              "  <tbody>\n",
              "    <tr>\n",
              "      <th>45344</th>\n",
              "      <td>0</td>\n",
              "      <td>/home/vitormelo/poc/scrapper/repos2/kibana/ui_...</td>\n",
              "      <td>0</td>\n",
              "      <td>kibana</td>\n",
              "      <td>v5.6.8</td>\n",
              "      <td>4.0</td>\n",
              "      <td>0</td>\n",
              "      <td>8</td>\n",
              "    </tr>\n",
              "    <tr>\n",
              "      <th>346863</th>\n",
              "      <td>0</td>\n",
              "      <td>/home/vitormelo/poc/scrapper/repos/Font-Awesom...</td>\n",
              "      <td>0</td>\n",
              "      <td>Font-Awesome</td>\n",
              "      <td>5.4.1</td>\n",
              "      <td>4.0</td>\n",
              "      <td>0</td>\n",
              "      <td>27</td>\n",
              "    </tr>\n",
              "    <tr>\n",
              "      <th>218998</th>\n",
              "      <td>0</td>\n",
              "      <td>/home/vitormelo/poc/scrapper/repos/ionic/src/c...</td>\n",
              "      <td>0</td>\n",
              "      <td>ionic</td>\n",
              "      <td>v2.0.0-beta.8</td>\n",
              "      <td>2.0</td>\n",
              "      <td>0</td>\n",
              "      <td>12</td>\n",
              "    </tr>\n",
              "    <tr>\n",
              "      <th>298935</th>\n",
              "      <td>46</td>\n",
              "      <td>/home/vitormelo/poc/scrapper/repos/elasticsear...</td>\n",
              "      <td>444</td>\n",
              "      <td>elasticsearch</td>\n",
              "      <td>v1.0.0.RC1</td>\n",
              "      <td>2.0</td>\n",
              "      <td>490</td>\n",
              "      <td>1107</td>\n",
              "    </tr>\n",
              "    <tr>\n",
              "      <th>88804</th>\n",
              "      <td>2</td>\n",
              "      <td>/home/vitormelo/poc/scrapper/repos2/openssl/ap...</td>\n",
              "      <td>59</td>\n",
              "      <td>openssl</td>\n",
              "      <td>OpenSSL_1_0_0p</td>\n",
              "      <td>4.0</td>\n",
              "      <td>61</td>\n",
              "      <td>401</td>\n",
              "    </tr>\n",
              "  </tbody>\n",
              "</table>\n",
              "</div>"
            ],
            "text/plain": [
              "        commented_out_code  ... total_lines\n",
              "45344                    0  ...           8\n",
              "346863                   0  ...          27\n",
              "218998                   0  ...          12\n",
              "298935                  46  ...        1107\n",
              "88804                    2  ...         401\n",
              "\n",
              "[5 rows x 8 columns]"
            ]
          },
          "metadata": {
            "tags": []
          },
          "execution_count": 4
        }
      ]
    },
    {
      "cell_type": "code",
      "metadata": {
        "id": "7_ZZSL2UxOOK",
        "colab_type": "code",
        "outputId": "af9f92f5-5136-4f5f-94db-c809e7b5c8a0",
        "colab": {
          "base_uri": "https://localhost:8080/",
          "height": 34
        }
      },
      "source": [
        "len(df['project'].unique())"
      ],
      "execution_count": 0,
      "outputs": [
        {
          "output_type": "execute_result",
          "data": {
            "text/plain": [
              "106"
            ]
          },
          "metadata": {
            "tags": []
          },
          "execution_count": 5
        }
      ]
    },
    {
      "cell_type": "code",
      "metadata": {
        "id": "-TXJhTXJP-QJ",
        "colab_type": "code",
        "outputId": "e33f457a-8b0c-4e35-ce54-f85fad1c9157",
        "colab": {
          "base_uri": "https://localhost:8080/",
          "height": 426
        }
      },
      "source": [
        "agg_dict = {\n",
        "  'total_lines':'sum',\n",
        "  'total_comments':'sum',\n",
        "  'normal_comments':'sum',\n",
        "  'commented_out_code':'sum'\n",
        "}\n",
        "  \n",
        "df_sum_by_project = df.groupby(['project','release_number','release']).agg(agg_dict).sort_values(by=['project','release_number']).reset_index()\n",
        "df_sum_by_project.head(12)"
      ],
      "execution_count": 0,
      "outputs": [
        {
          "output_type": "execute_result",
          "data": {
            "text/html": [
              "<div>\n",
              "<style scoped>\n",
              "    .dataframe tbody tr th:only-of-type {\n",
              "        vertical-align: middle;\n",
              "    }\n",
              "\n",
              "    .dataframe tbody tr th {\n",
              "        vertical-align: top;\n",
              "    }\n",
              "\n",
              "    .dataframe thead th {\n",
              "        text-align: right;\n",
              "    }\n",
              "</style>\n",
              "<table border=\"1\" class=\"dataframe\">\n",
              "  <thead>\n",
              "    <tr style=\"text-align: right;\">\n",
              "      <th></th>\n",
              "      <th>project</th>\n",
              "      <th>release_number</th>\n",
              "      <th>release</th>\n",
              "      <th>total_lines</th>\n",
              "      <th>total_comments</th>\n",
              "      <th>normal_comments</th>\n",
              "      <th>commented_out_code</th>\n",
              "    </tr>\n",
              "  </thead>\n",
              "  <tbody>\n",
              "    <tr>\n",
              "      <th>0</th>\n",
              "      <td>AndroidUtilCode</td>\n",
              "      <td>0.0</td>\n",
              "      <td>1.1.0</td>\n",
              "      <td>4056</td>\n",
              "      <td>1411</td>\n",
              "      <td>1103</td>\n",
              "      <td>308</td>\n",
              "    </tr>\n",
              "    <tr>\n",
              "      <th>1</th>\n",
              "      <td>AndroidUtilCode</td>\n",
              "      <td>1.0</td>\n",
              "      <td>1.8.0</td>\n",
              "      <td>22591</td>\n",
              "      <td>5420</td>\n",
              "      <td>4492</td>\n",
              "      <td>928</td>\n",
              "    </tr>\n",
              "    <tr>\n",
              "      <th>2</th>\n",
              "      <td>AndroidUtilCode</td>\n",
              "      <td>2.0</td>\n",
              "      <td>1.11.0</td>\n",
              "      <td>28089</td>\n",
              "      <td>6406</td>\n",
              "      <td>5382</td>\n",
              "      <td>1024</td>\n",
              "    </tr>\n",
              "    <tr>\n",
              "      <th>3</th>\n",
              "      <td>AndroidUtilCode</td>\n",
              "      <td>3.0</td>\n",
              "      <td>1.13.13</td>\n",
              "      <td>30044</td>\n",
              "      <td>6382</td>\n",
              "      <td>5545</td>\n",
              "      <td>837</td>\n",
              "    </tr>\n",
              "    <tr>\n",
              "      <th>4</th>\n",
              "      <td>AndroidUtilCode</td>\n",
              "      <td>4.0</td>\n",
              "      <td>1.18.3</td>\n",
              "      <td>36336</td>\n",
              "      <td>7537</td>\n",
              "      <td>6663</td>\n",
              "      <td>874</td>\n",
              "    </tr>\n",
              "    <tr>\n",
              "      <th>5</th>\n",
              "      <td>AndroidUtilCode</td>\n",
              "      <td>5.0</td>\n",
              "      <td>1.22.9</td>\n",
              "      <td>37718</td>\n",
              "      <td>7923</td>\n",
              "      <td>6798</td>\n",
              "      <td>1125</td>\n",
              "    </tr>\n",
              "    <tr>\n",
              "      <th>6</th>\n",
              "      <td>Arduino</td>\n",
              "      <td>0.0</td>\n",
              "      <td>2.0.0-rc1</td>\n",
              "      <td>22434</td>\n",
              "      <td>3962</td>\n",
              "      <td>3703</td>\n",
              "      <td>259</td>\n",
              "    </tr>\n",
              "    <tr>\n",
              "      <th>7</th>\n",
              "      <td>Arduino</td>\n",
              "      <td>1.0</td>\n",
              "      <td>2.1.0-rc2</td>\n",
              "      <td>25373</td>\n",
              "      <td>4533</td>\n",
              "      <td>4265</td>\n",
              "      <td>268</td>\n",
              "    </tr>\n",
              "    <tr>\n",
              "      <th>8</th>\n",
              "      <td>Arduino</td>\n",
              "      <td>2.0</td>\n",
              "      <td>2.3.0-rc1</td>\n",
              "      <td>49665</td>\n",
              "      <td>11210</td>\n",
              "      <td>10516</td>\n",
              "      <td>694</td>\n",
              "    </tr>\n",
              "    <tr>\n",
              "      <th>9</th>\n",
              "      <td>Arduino</td>\n",
              "      <td>3.0</td>\n",
              "      <td>2.4.0-rc2</td>\n",
              "      <td>53500</td>\n",
              "      <td>11825</td>\n",
              "      <td>11085</td>\n",
              "      <td>740</td>\n",
              "    </tr>\n",
              "    <tr>\n",
              "      <th>10</th>\n",
              "      <td>Arduino</td>\n",
              "      <td>4.0</td>\n",
              "      <td>2.5.0-beta1</td>\n",
              "      <td>69717</td>\n",
              "      <td>15387</td>\n",
              "      <td>14177</td>\n",
              "      <td>1210</td>\n",
              "    </tr>\n",
              "    <tr>\n",
              "      <th>11</th>\n",
              "      <td>Arduino</td>\n",
              "      <td>5.0</td>\n",
              "      <td>2.5.1</td>\n",
              "      <td>69292</td>\n",
              "      <td>14877</td>\n",
              "      <td>13574</td>\n",
              "      <td>1303</td>\n",
              "    </tr>\n",
              "  </tbody>\n",
              "</table>\n",
              "</div>"
            ],
            "text/plain": [
              "            project  release_number  ... normal_comments  commented_out_code\n",
              "0   AndroidUtilCode             0.0  ...            1103                 308\n",
              "1   AndroidUtilCode             1.0  ...            4492                 928\n",
              "2   AndroidUtilCode             2.0  ...            5382                1024\n",
              "3   AndroidUtilCode             3.0  ...            5545                 837\n",
              "4   AndroidUtilCode             4.0  ...            6663                 874\n",
              "5   AndroidUtilCode             5.0  ...            6798                1125\n",
              "6           Arduino             0.0  ...            3703                 259\n",
              "7           Arduino             1.0  ...            4265                 268\n",
              "8           Arduino             2.0  ...           10516                 694\n",
              "9           Arduino             3.0  ...           11085                 740\n",
              "10          Arduino             4.0  ...           14177                1210\n",
              "11          Arduino             5.0  ...           13574                1303\n",
              "\n",
              "[12 rows x 7 columns]"
            ]
          },
          "metadata": {
            "tags": []
          },
          "execution_count": 6
        }
      ]
    },
    {
      "cell_type": "code",
      "metadata": {
        "id": "eOU9CJoiQVOC",
        "colab_type": "code",
        "outputId": "c78ec9d3-41d2-408a-a54c-8853e0f59654",
        "colab": {
          "base_uri": "https://localhost:8080/",
          "height": 206
        }
      },
      "source": [
        "df_sum_by_project['out_code_tax'] = df_sum_by_project['commented_out_code']/df_sum_by_project['total_comments']\n",
        "df_sum_by_project.head()"
      ],
      "execution_count": 0,
      "outputs": [
        {
          "output_type": "execute_result",
          "data": {
            "text/html": [
              "<div>\n",
              "<style scoped>\n",
              "    .dataframe tbody tr th:only-of-type {\n",
              "        vertical-align: middle;\n",
              "    }\n",
              "\n",
              "    .dataframe tbody tr th {\n",
              "        vertical-align: top;\n",
              "    }\n",
              "\n",
              "    .dataframe thead th {\n",
              "        text-align: right;\n",
              "    }\n",
              "</style>\n",
              "<table border=\"1\" class=\"dataframe\">\n",
              "  <thead>\n",
              "    <tr style=\"text-align: right;\">\n",
              "      <th></th>\n",
              "      <th>project</th>\n",
              "      <th>release_number</th>\n",
              "      <th>release</th>\n",
              "      <th>total_lines</th>\n",
              "      <th>total_comments</th>\n",
              "      <th>normal_comments</th>\n",
              "      <th>commented_out_code</th>\n",
              "      <th>out_code_tax</th>\n",
              "    </tr>\n",
              "  </thead>\n",
              "  <tbody>\n",
              "    <tr>\n",
              "      <th>0</th>\n",
              "      <td>AndroidUtilCode</td>\n",
              "      <td>0.0</td>\n",
              "      <td>1.1.0</td>\n",
              "      <td>4056</td>\n",
              "      <td>1411</td>\n",
              "      <td>1103</td>\n",
              "      <td>308</td>\n",
              "      <td>0.218285</td>\n",
              "    </tr>\n",
              "    <tr>\n",
              "      <th>1</th>\n",
              "      <td>AndroidUtilCode</td>\n",
              "      <td>1.0</td>\n",
              "      <td>1.8.0</td>\n",
              "      <td>22591</td>\n",
              "      <td>5420</td>\n",
              "      <td>4492</td>\n",
              "      <td>928</td>\n",
              "      <td>0.171218</td>\n",
              "    </tr>\n",
              "    <tr>\n",
              "      <th>2</th>\n",
              "      <td>AndroidUtilCode</td>\n",
              "      <td>2.0</td>\n",
              "      <td>1.11.0</td>\n",
              "      <td>28089</td>\n",
              "      <td>6406</td>\n",
              "      <td>5382</td>\n",
              "      <td>1024</td>\n",
              "      <td>0.159850</td>\n",
              "    </tr>\n",
              "    <tr>\n",
              "      <th>3</th>\n",
              "      <td>AndroidUtilCode</td>\n",
              "      <td>3.0</td>\n",
              "      <td>1.13.13</td>\n",
              "      <td>30044</td>\n",
              "      <td>6382</td>\n",
              "      <td>5545</td>\n",
              "      <td>837</td>\n",
              "      <td>0.131150</td>\n",
              "    </tr>\n",
              "    <tr>\n",
              "      <th>4</th>\n",
              "      <td>AndroidUtilCode</td>\n",
              "      <td>4.0</td>\n",
              "      <td>1.18.3</td>\n",
              "      <td>36336</td>\n",
              "      <td>7537</td>\n",
              "      <td>6663</td>\n",
              "      <td>874</td>\n",
              "      <td>0.115961</td>\n",
              "    </tr>\n",
              "  </tbody>\n",
              "</table>\n",
              "</div>"
            ],
            "text/plain": [
              "           project  release_number  ... commented_out_code  out_code_tax\n",
              "0  AndroidUtilCode             0.0  ...                308      0.218285\n",
              "1  AndroidUtilCode             1.0  ...                928      0.171218\n",
              "2  AndroidUtilCode             2.0  ...               1024      0.159850\n",
              "3  AndroidUtilCode             3.0  ...                837      0.131150\n",
              "4  AndroidUtilCode             4.0  ...                874      0.115961\n",
              "\n",
              "[5 rows x 8 columns]"
            ]
          },
          "metadata": {
            "tags": []
          },
          "execution_count": 7
        }
      ]
    },
    {
      "cell_type": "code",
      "metadata": {
        "id": "e1FQItJ8TbAa",
        "colab_type": "code",
        "outputId": "66100056-33d1-4a6b-af09-97548211b6ee",
        "colab": {
          "base_uri": "https://localhost:8080/",
          "height": 52
        }
      },
      "source": [
        "arr = []\n",
        "for key, grp in df_sum_by_project.groupby(['project']):\n",
        "  if any(np.isnan(grp['out_code_tax'].values)) :\n",
        "    print(\"has nan \"+key)\n",
        "  else:\n",
        "    arr.append(grp['out_code_tax'].values) \n",
        "  #plt.plot(grp['release_number'], grp['out_code_tax'])\n",
        "arr = np.array(arr)"
      ],
      "execution_count": 0,
      "outputs": [
        {
          "output_type": "stream",
          "text": [
            "has nan d3\n",
            "has nan storybook\n"
          ],
          "name": "stdout"
        }
      ]
    },
    {
      "cell_type": "code",
      "metadata": {
        "id": "IyXyq26RTf61",
        "colab_type": "code",
        "outputId": "d63d83e0-d861-4f29-b4cd-38296bf10a75",
        "colab": {
          "base_uri": "https://localhost:8080/",
          "height": 748
        }
      },
      "source": [
        "sse = {}\n",
        "for k in range(1, 10):\n",
        "    kmeans = KMeans(n_clusters=k, max_iter=1000).fit(arr)\n",
        "    #data[\"clusters\"] = kmeans.labels_\n",
        "    print(kmeans.labels_)\n",
        "    #print(data[\"clusters\"])\n",
        "    sse[k] = kmeans.inertia_ # Inertia: Sum of distances of samples to their closest cluster center\n",
        "plt.figure()\n",
        "plt.plot(list(sse.keys()), list(sse.values()))\n",
        "plt.xlabel(\"Number of cluster\")\n",
        "plt.ylabel(\"SSE\")\n",
        "plt.show()"
      ],
      "execution_count": 0,
      "outputs": [
        {
          "output_type": "stream",
          "text": [
            "[0 0 0 0 0 0 0 0 0 0 0 0 0 0 0 0 0 0 0 0 0 0 0 0 0 0 0 0 0 0 0 0 0 0 0 0 0\n",
            " 0 0 0 0 0 0 0 0 0 0 0 0 0 0 0 0 0 0 0 0 0 0 0 0 0 0 0 0 0 0 0 0 0 0 0 0 0\n",
            " 0 0 0 0 0 0 0 0 0 0 0 0 0 0 0 0 0 0 0 0 0 0 0 0 0 0 0 0 0 0]\n",
            "[0 0 0 0 0 1 0 0 0 0 0 0 0 0 0 0 0 0 0 0 0 0 0 0 0 0 0 0 0 0 0 0 0 0 0 0 0\n",
            " 0 0 0 0 0 0 0 0 0 0 0 0 0 0 0 1 0 0 0 0 0 0 0 0 0 0 1 0 0 0 1 0 0 0 0 0 0\n",
            " 0 0 1 0 0 0 0 0 0 0 0 0 0 0 0 0 0 0 1 0 1 0 0 0 0 0 0 0 0 0]\n",
            "[2 0 0 2 0 1 2 0 2 0 0 0 0 2 2 2 0 0 0 0 0 0 0 0 2 0 2 0 0 0 2 2 0 0 0 2 0\n",
            " 0 0 0 0 0 0 2 2 2 0 0 0 0 0 0 1 2 2 0 2 2 0 0 0 0 0 2 0 0 2 2 0 0 2 0 0 0\n",
            " 0 0 1 2 0 0 0 0 0 0 0 2 2 0 0 0 0 2 2 0 1 0 2 0 0 0 0 0 0 0]\n",
            "[1 0 0 0 0 3 0 0 1 0 0 0 0 1 1 1 0 0 0 0 0 0 0 0 0 0 0 0 0 0 1 1 0 0 0 1 0\n",
            " 0 0 0 0 0 0 1 1 1 0 0 0 0 0 0 1 1 1 0 1 0 0 0 0 0 0 1 0 0 1 1 0 0 1 0 0 0\n",
            " 0 0 2 1 0 0 0 0 0 0 0 1 1 0 0 0 0 0 1 0 1 0 1 0 0 0 0 0 0 0]\n",
            "[0 1 1 0 1 2 0 1 0 1 1 1 1 0 0 0 1 1 0 1 1 1 1 1 0 1 0 1 1 1 0 0 1 1 1 0 1\n",
            " 1 1 1 1 1 1 0 0 0 1 1 1 1 1 1 4 0 0 1 0 0 1 0 1 1 1 4 1 1 0 4 1 1 0 1 1 1\n",
            " 1 1 3 0 1 1 1 1 1 1 1 0 0 1 1 1 1 0 4 1 4 1 0 1 1 1 0 1 1 1]\n",
            "[1 0 3 1 3 2 0 3 1 3 3 3 0 1 1 1 0 0 0 3 0 0 3 3 0 0 0 0 3 0 1 1 3 3 3 1 3\n",
            " 0 0 0 0 3 3 1 1 1 3 3 0 0 3 3 4 1 1 0 1 1 0 0 3 3 3 4 3 0 1 4 0 3 1 3 0 3\n",
            " 0 3 5 1 0 3 0 3 3 3 3 1 1 3 3 3 3 0 4 3 4 3 1 3 3 3 0 3 0 3]\n",
            "[3 0 0 3 0 4 3 0 3 0 0 0 6 3 3 3 6 0 3 0 0 0 0 0 6 6 3 0 0 0 3 3 0 0 0 3 0\n",
            " 6 0 6 0 0 0 3 3 3 0 0 0 6 0 0 1 3 3 6 6 3 0 6 0 0 0 5 0 0 3 5 0 0 3 0 0 0\n",
            " 6 0 2 3 0 0 0 0 0 0 0 3 6 0 0 0 0 6 5 0 5 0 3 0 0 0 3 0 0 0]\n",
            "[1 3 0 3 0 4 3 0 1 0 0 0 7 1 1 1 7 3 3 0 0 3 0 0 3 7 3 0 0 0 3 1 0 0 0 1 0\n",
            " 3 3 3 3 0 0 1 1 1 0 0 3 3 0 0 2 1 1 7 7 3 3 3 0 0 0 6 0 3 3 1 3 0 1 0 0 0\n",
            " 7 0 5 1 0 0 3 0 0 0 0 3 7 0 0 0 0 7 6 0 6 0 1 0 0 0 3 0 3 0]\n",
            "[0 3 1 3 1 6 3 1 0 1 1 1 5 0 0 0 5 3 3 1 1 3 1 1 5 5 3 1 1 1 3 0 1 1 1 3 1\n",
            " 3 3 5 3 1 1 0 0 0 1 1 3 5 1 1 7 0 3 5 5 3 3 3 1 1 1 8 1 3 3 0 3 1 0 1 5 1\n",
            " 5 1 4 3 5 1 3 1 1 1 1 3 0 1 1 1 1 5 8 1 2 1 0 1 5 1 3 1 1 1]\n"
          ],
          "name": "stdout"
        },
        {
          "output_type": "display_data",
          "data": {
            "image/png": "[encoded data removed]",
            "text/plain": [
              "<Figure size 432x288 with 1 Axes>"
            ]
          },
          "metadata": {
            "tags": []
          }
        }
      ]
    },
    {
      "cell_type": "code",
      "metadata": {
        "id": "Xdv-AOyjrFIL",
        "colab_type": "code",
        "outputId": "42a961d6-94ba-49e9-9491-235143431380",
        "colab": {
          "base_uri": "https://localhost:8080/",
          "height": 86
        }
      },
      "source": [
        "kmeans = KMeans(n_clusters=2, max_iter=1000).fit(arr)\n",
        "kmeans.cluster_centers_"
      ],
      "execution_count": 0,
      "outputs": [
        {
          "output_type": "execute_result",
          "data": {
            "text/plain": [
              "array([[0.07873381, 0.06995106, 0.06888612, 0.06678606, 0.06556652,\n",
              "        0.06234139],\n",
              "       [0.20866071, 0.43029378, 0.41710239, 0.25550758, 0.21733885,\n",
              "        0.12110552]])"
            ]
          },
          "metadata": {
            "tags": []
          },
          "execution_count": 10
        }
      ]
    },
    {
      "cell_type": "code",
      "metadata": {
        "id": "4wInFkhur0pE",
        "colab_type": "code",
        "outputId": "7a32edef-a827-4a43-a703-60ddc3b6d01c",
        "colab": {
          "base_uri": "https://localhost:8080/",
          "height": 121
        }
      },
      "source": [
        "kmeans = KMeans(n_clusters=3, max_iter=1000).fit(arr)\n",
        "kmeans.cluster_centers_"
      ],
      "execution_count": 0,
      "outputs": [
        {
          "output_type": "execute_result",
          "data": {
            "text/plain": [
              "array([[0.05783294, 0.04432303, 0.04733302, 0.04579052, 0.04349732,\n",
              "        0.04269275],\n",
              "       [0.08977833, 0.54012976, 0.53234103, 0.29241201, 0.24818257,\n",
              "        0.12295461],\n",
              "       [0.1672921 , 0.16300775, 0.14877762, 0.13905351, 0.13752925,\n",
              "        0.12172088]])"
            ]
          },
          "metadata": {
            "tags": []
          },
          "execution_count": 81
        }
      ]
    },
    {
      "cell_type": "code",
      "metadata": {
        "id": "_sPzCKaG8qV5",
        "colab_type": "code",
        "outputId": "991c2990-50f0-4818-89c7-45bcb3dc6d15",
        "colab": {
          "base_uri": "https://localhost:8080/",
          "height": 282
        }
      },
      "source": [
        "x = range(1,7)\n",
        "labels=['group 1 - 70%','group 2 - 4%', 'group 3 - 26%']\n",
        "for y_arr, label in zip(kmeans.cluster_centers_, labels):\n",
        "    plt.plot(x, y_arr, label=label)\n",
        "plt.legend()"
      ],
      "execution_count": 0,
      "outputs": [
        {
          "output_type": "execute_result",
          "data": {
            "text/plain": [
              "<matplotlib.legend.Legend at 0x7fac48f33160>"
            ]
          },
          "metadata": {
            "tags": []
          },
          "execution_count": 100
        },
        {
          "output_type": "display_data",
          "data": {
            "image/png": "[encoded data removed]",
            "text/plain": [
              "<Figure size 432x288 with 1 Axes>"
            ]
          },
          "metadata": {
            "tags": []
          }
        }
      ]
    },
    {
      "cell_type": "code",
      "metadata": {
        "id": "zCvPCU-2-M0d",
        "colab_type": "code",
        "outputId": "f0f0d94a-e102-4919-b5b5-785844be3856",
        "colab": {
          "base_uri": "https://localhost:8080/",
          "height": 34
        }
      },
      "source": [
        "unique, counts = np.unique(kmeans.labels_, return_counts=True)\n",
        "dict(zip(unique, counts))"
      ],
      "execution_count": 0,
      "outputs": [
        {
          "output_type": "execute_result",
          "data": {
            "text/plain": [
              "{0: 73, 1: 4, 2: 27}"
            ]
          },
          "metadata": {
            "tags": []
          },
          "execution_count": 88
        }
      ]
    },
    {
      "cell_type": "code",
      "metadata": {
        "id": "c0e9V5BtAvJN",
        "colab_type": "code",
        "outputId": "6dcc87e3-299a-4c83-b2b2-7cf7f90bddc1",
        "colab": {
          "base_uri": "https://localhost:8080/",
          "height": 34
        }
      },
      "source": [
        "a = 73/104\n",
        "b = 4/104\n",
        "c = 27/104\n",
        "print(a,b,c)"
      ],
      "execution_count": 0,
      "outputs": [
        {
          "output_type": "stream",
          "text": [
            "0.7019230769230769 0.038461538461538464 0.25961538461538464\n"
          ],
          "name": "stdout"
        }
      ]
    },
    {
      "cell_type": "code",
      "metadata": {
        "id": "2cKGDH66r4kP",
        "colab_type": "code",
        "outputId": "ad12593b-152d-4a75-e4f6-adac37e29c56",
        "colab": {
          "base_uri": "https://localhost:8080/",
          "height": 156
        }
      },
      "source": [
        "kmeans = KMeans(n_clusters=4, max_iter=1000).fit(arr)\n",
        "kmeans.cluster_centers_"
      ],
      "execution_count": 0,
      "outputs": [
        {
          "output_type": "execute_result",
          "data": {
            "text/plain": [
              "array([[0.17474996, 0.19692408, 0.17184871, 0.15342714, 0.14733243,\n",
              "        0.11723921],\n",
              "       [0.05953542, 0.04632984, 0.05027275, 0.04870781, 0.04755298,\n",
              "        0.04715284],\n",
              "       [0.        , 0.78431373, 0.74074074, 0.02684564, 0.02941176,\n",
              "        0.02592593],\n",
              "       [0.14482759, 0.52249637, 0.69371012, 0.65377532, 0.50702247,\n",
              "        0.30717863]])"
            ]
          },
          "metadata": {
            "tags": []
          },
          "execution_count": 12
        }
      ]
    },
    {
      "cell_type": "code",
      "metadata": {
        "id": "xy1rTeppr3wo",
        "colab_type": "code",
        "outputId": "02522e76-b955-4355-dc2e-ed16c6d4d418",
        "colab": {
          "base_uri": "https://localhost:8080/",
          "height": 424
        }
      },
      "source": [
        "fig = plt.figure(1, figsize=(7, 5))\n",
        "ax = fig.add_subplot(111)\n",
        "bp = ax.boxplot(arr)\n",
        "\n",
        "pos = np.arange(6) + 1\n",
        "for tick, label in zip(range(6), bp['medians']):\n",
        "  print(tick,label)\n",
        "  ax.text(pos[tick], 0.06, \"{0:.2f}%\".format(label.get_ydata()[0]*100),\n",
        "          horizontalalignment='center', size='small',weight='bold',\n",
        "          color='black')\n"
      ],
      "execution_count": 0,
      "outputs": [
        {
          "output_type": "stream",
          "text": [
            "0 Line2D(_line5)\n",
            "1 Line2D(_line12)\n",
            "2 Line2D(_line19)\n",
            "3 Line2D(_line26)\n",
            "4 Line2D(_line33)\n",
            "5 Line2D(_line40)\n"
          ],
          "name": "stdout"
        },
        {
          "output_type": "display_data",
          "data": {
            "image/png": "[encoded data removed]",
            "text/plain": [
              "<Figure size 504x360 with 1 Axes>"
            ]
          },
          "metadata": {
            "tags": []
          }
        }
      ]
    },
    {
      "cell_type": "code",
      "metadata": {
        "id": "G2lGbnR9JNSt",
        "colab_type": "code",
        "outputId": "6002808f-8a02-4ba3-f500-bc5602a41c56",
        "colab": {
          "base_uri": "https://localhost:8080/",
          "height": 34
        }
      },
      "source": [
        "bp['medians'][0].get_ydata()\n"
      ],
      "execution_count": 0,
      "outputs": [
        {
          "output_type": "execute_result",
          "data": {
            "text/plain": [
              "array([0.05633583, 0.05633583])"
            ]
          },
          "metadata": {
            "tags": []
          },
          "execution_count": 14
        }
      ]
    },
    {
      "cell_type": "code",
      "metadata": {
        "id": "sSZYeeD3zLok",
        "colab_type": "code",
        "colab": {}
      },
      "source": [
        "df_lang = df['file'].str.split(\".\", expand = False)\n",
        "langs = []\n",
        "for lang in df_lang:\n",
        "  langs.append(lang[-1])\n",
        "df['lang'] = langs"
      ],
      "execution_count": 0,
      "outputs": []
    },
    {
      "cell_type": "code",
      "metadata": {
        "id": "-i094Zi9Vztf",
        "colab_type": "code",
        "outputId": "cd491bde-7899-4fbf-d930-d15de8ec4c41",
        "colab": {
          "base_uri": "https://localhost:8080/",
          "height": 426
        }
      },
      "source": [
        "df_sum_by_lang = df.groupby(['lang','project','release_number']).agg(agg_dict).sort_values(by=['lang','project','release_number']).reset_index()\n",
        "df_sum_by_lang['out_code_tax'] = df_sum_by_lang['commented_out_code']/df_sum_by_lang['total_comments']\n",
        "df_sum_by_lang.head(12)"
      ],
      "execution_count": 0,
      "outputs": [
        {
          "output_type": "execute_result",
          "data": {
            "text/html": [
              "<div>\n",
              "<style scoped>\n",
              "    .dataframe tbody tr th:only-of-type {\n",
              "        vertical-align: middle;\n",
              "    }\n",
              "\n",
              "    .dataframe tbody tr th {\n",
              "        vertical-align: top;\n",
              "    }\n",
              "\n",
              "    .dataframe thead th {\n",
              "        text-align: right;\n",
              "    }\n",
              "</style>\n",
              "<table border=\"1\" class=\"dataframe\">\n",
              "  <thead>\n",
              "    <tr style=\"text-align: right;\">\n",
              "      <th></th>\n",
              "      <th>lang</th>\n",
              "      <th>project</th>\n",
              "      <th>release_number</th>\n",
              "      <th>total_lines</th>\n",
              "      <th>total_comments</th>\n",
              "      <th>normal_comments</th>\n",
              "      <th>commented_out_code</th>\n",
              "      <th>out_code_tax</th>\n",
              "    </tr>\n",
              "  </thead>\n",
              "  <tbody>\n",
              "    <tr>\n",
              "      <th>0</th>\n",
              "      <td>c</td>\n",
              "      <td>Arduino</td>\n",
              "      <td>0.0</td>\n",
              "      <td>7317</td>\n",
              "      <td>1334</td>\n",
              "      <td>1241</td>\n",
              "      <td>93</td>\n",
              "      <td>0.069715</td>\n",
              "    </tr>\n",
              "    <tr>\n",
              "      <th>1</th>\n",
              "      <td>c</td>\n",
              "      <td>Arduino</td>\n",
              "      <td>1.0</td>\n",
              "      <td>7944</td>\n",
              "      <td>1438</td>\n",
              "      <td>1333</td>\n",
              "      <td>105</td>\n",
              "      <td>0.073018</td>\n",
              "    </tr>\n",
              "    <tr>\n",
              "      <th>2</th>\n",
              "      <td>c</td>\n",
              "      <td>Arduino</td>\n",
              "      <td>2.0</td>\n",
              "      <td>32821</td>\n",
              "      <td>8260</td>\n",
              "      <td>7701</td>\n",
              "      <td>559</td>\n",
              "      <td>0.067676</td>\n",
              "    </tr>\n",
              "    <tr>\n",
              "      <th>3</th>\n",
              "      <td>c</td>\n",
              "      <td>Arduino</td>\n",
              "      <td>3.0</td>\n",
              "      <td>34102</td>\n",
              "      <td>8458</td>\n",
              "      <td>7889</td>\n",
              "      <td>569</td>\n",
              "      <td>0.067274</td>\n",
              "    </tr>\n",
              "    <tr>\n",
              "      <th>4</th>\n",
              "      <td>c</td>\n",
              "      <td>Arduino</td>\n",
              "      <td>4.0</td>\n",
              "      <td>37704</td>\n",
              "      <td>9365</td>\n",
              "      <td>8728</td>\n",
              "      <td>637</td>\n",
              "      <td>0.068019</td>\n",
              "    </tr>\n",
              "    <tr>\n",
              "      <th>5</th>\n",
              "      <td>c</td>\n",
              "      <td>Arduino</td>\n",
              "      <td>5.0</td>\n",
              "      <td>26342</td>\n",
              "      <td>6857</td>\n",
              "      <td>6377</td>\n",
              "      <td>480</td>\n",
              "      <td>0.070001</td>\n",
              "    </tr>\n",
              "    <tr>\n",
              "      <th>6</th>\n",
              "      <td>c</td>\n",
              "      <td>How-to-Make-a-Computer-Operating-System</td>\n",
              "      <td>0.0</td>\n",
              "      <td>15226</td>\n",
              "      <td>1646</td>\n",
              "      <td>1479</td>\n",
              "      <td>167</td>\n",
              "      <td>0.101458</td>\n",
              "    </tr>\n",
              "    <tr>\n",
              "      <th>7</th>\n",
              "      <td>c</td>\n",
              "      <td>How-to-Make-a-Computer-Operating-System</td>\n",
              "      <td>1.0</td>\n",
              "      <td>15226</td>\n",
              "      <td>1646</td>\n",
              "      <td>1479</td>\n",
              "      <td>167</td>\n",
              "      <td>0.101458</td>\n",
              "    </tr>\n",
              "    <tr>\n",
              "      <th>8</th>\n",
              "      <td>c</td>\n",
              "      <td>How-to-Make-a-Computer-Operating-System</td>\n",
              "      <td>2.0</td>\n",
              "      <td>15226</td>\n",
              "      <td>1646</td>\n",
              "      <td>1479</td>\n",
              "      <td>167</td>\n",
              "      <td>0.101458</td>\n",
              "    </tr>\n",
              "    <tr>\n",
              "      <th>9</th>\n",
              "      <td>c</td>\n",
              "      <td>How-to-Make-a-Computer-Operating-System</td>\n",
              "      <td>3.0</td>\n",
              "      <td>15226</td>\n",
              "      <td>1646</td>\n",
              "      <td>1479</td>\n",
              "      <td>167</td>\n",
              "      <td>0.101458</td>\n",
              "    </tr>\n",
              "    <tr>\n",
              "      <th>10</th>\n",
              "      <td>c</td>\n",
              "      <td>How-to-Make-a-Computer-Operating-System</td>\n",
              "      <td>4.0</td>\n",
              "      <td>15226</td>\n",
              "      <td>1646</td>\n",
              "      <td>1479</td>\n",
              "      <td>167</td>\n",
              "      <td>0.101458</td>\n",
              "    </tr>\n",
              "    <tr>\n",
              "      <th>11</th>\n",
              "      <td>c</td>\n",
              "      <td>How-to-Make-a-Computer-Operating-System</td>\n",
              "      <td>5.0</td>\n",
              "      <td>15226</td>\n",
              "      <td>1646</td>\n",
              "      <td>1479</td>\n",
              "      <td>167</td>\n",
              "      <td>0.101458</td>\n",
              "    </tr>\n",
              "  </tbody>\n",
              "</table>\n",
              "</div>"
            ],
            "text/plain": [
              "   lang  ... out_code_tax\n",
              "0     c  ...     0.069715\n",
              "1     c  ...     0.073018\n",
              "2     c  ...     0.067676\n",
              "3     c  ...     0.067274\n",
              "4     c  ...     0.068019\n",
              "5     c  ...     0.070001\n",
              "6     c  ...     0.101458\n",
              "7     c  ...     0.101458\n",
              "8     c  ...     0.101458\n",
              "9     c  ...     0.101458\n",
              "10    c  ...     0.101458\n",
              "11    c  ...     0.101458\n",
              "\n",
              "[12 rows x 8 columns]"
            ]
          },
          "metadata": {
            "tags": []
          },
          "execution_count": 63
        }
      ]
    },
    {
      "cell_type": "code",
      "metadata": {
        "id": "15J5AEAGfsrp",
        "colab_type": "code",
        "outputId": "6b628037-4b96-4002-b2e0-f1a2d6ca4b5a",
        "colab": {
          "base_uri": "https://localhost:8080/",
          "height": 990
        }
      },
      "source": [
        "df_median_by_lang = df_sum_by_lang.groupby(['lang','release_number']).agg({'out_code_tax':'median'}).reset_index()\n",
        "df_median_by_lang"
      ],
      "execution_count": 0,
      "outputs": [
        {
          "output_type": "execute_result",
          "data": {
            "text/html": [
              "<div>\n",
              "<style scoped>\n",
              "    .dataframe tbody tr th:only-of-type {\n",
              "        vertical-align: middle;\n",
              "    }\n",
              "\n",
              "    .dataframe tbody tr th {\n",
              "        vertical-align: top;\n",
              "    }\n",
              "\n",
              "    .dataframe thead th {\n",
              "        text-align: right;\n",
              "    }\n",
              "</style>\n",
              "<table border=\"1\" class=\"dataframe\">\n",
              "  <thead>\n",
              "    <tr style=\"text-align: right;\">\n",
              "      <th></th>\n",
              "      <th>lang</th>\n",
              "      <th>release_number</th>\n",
              "      <th>out_code_tax</th>\n",
              "    </tr>\n",
              "  </thead>\n",
              "  <tbody>\n",
              "    <tr>\n",
              "      <th>0</th>\n",
              "      <td>c</td>\n",
              "      <td>0.0</td>\n",
              "      <td>0.077608</td>\n",
              "    </tr>\n",
              "    <tr>\n",
              "      <th>1</th>\n",
              "      <td>c</td>\n",
              "      <td>1.0</td>\n",
              "      <td>0.076361</td>\n",
              "    </tr>\n",
              "    <tr>\n",
              "      <th>2</th>\n",
              "      <td>c</td>\n",
              "      <td>2.0</td>\n",
              "      <td>0.058406</td>\n",
              "    </tr>\n",
              "    <tr>\n",
              "      <th>3</th>\n",
              "      <td>c</td>\n",
              "      <td>3.0</td>\n",
              "      <td>0.058164</td>\n",
              "    </tr>\n",
              "    <tr>\n",
              "      <th>4</th>\n",
              "      <td>c</td>\n",
              "      <td>4.0</td>\n",
              "      <td>0.049825</td>\n",
              "    </tr>\n",
              "    <tr>\n",
              "      <th>5</th>\n",
              "      <td>c</td>\n",
              "      <td>5.0</td>\n",
              "      <td>0.047256</td>\n",
              "    </tr>\n",
              "    <tr>\n",
              "      <th>6</th>\n",
              "      <td>cpp</td>\n",
              "      <td>0.0</td>\n",
              "      <td>0.042308</td>\n",
              "    </tr>\n",
              "    <tr>\n",
              "      <th>7</th>\n",
              "      <td>cpp</td>\n",
              "      <td>1.0</td>\n",
              "      <td>0.052666</td>\n",
              "    </tr>\n",
              "    <tr>\n",
              "      <th>8</th>\n",
              "      <td>cpp</td>\n",
              "      <td>2.0</td>\n",
              "      <td>0.087912</td>\n",
              "    </tr>\n",
              "    <tr>\n",
              "      <th>9</th>\n",
              "      <td>cpp</td>\n",
              "      <td>3.0</td>\n",
              "      <td>0.075736</td>\n",
              "    </tr>\n",
              "    <tr>\n",
              "      <th>10</th>\n",
              "      <td>cpp</td>\n",
              "      <td>4.0</td>\n",
              "      <td>0.079638</td>\n",
              "    </tr>\n",
              "    <tr>\n",
              "      <th>11</th>\n",
              "      <td>cpp</td>\n",
              "      <td>5.0</td>\n",
              "      <td>0.088581</td>\n",
              "    </tr>\n",
              "    <tr>\n",
              "      <th>12</th>\n",
              "      <td>java</td>\n",
              "      <td>0.0</td>\n",
              "      <td>0.039538</td>\n",
              "    </tr>\n",
              "    <tr>\n",
              "      <th>13</th>\n",
              "      <td>java</td>\n",
              "      <td>1.0</td>\n",
              "      <td>0.032737</td>\n",
              "    </tr>\n",
              "    <tr>\n",
              "      <th>14</th>\n",
              "      <td>java</td>\n",
              "      <td>2.0</td>\n",
              "      <td>0.034029</td>\n",
              "    </tr>\n",
              "    <tr>\n",
              "      <th>15</th>\n",
              "      <td>java</td>\n",
              "      <td>3.0</td>\n",
              "      <td>0.030699</td>\n",
              "    </tr>\n",
              "    <tr>\n",
              "      <th>16</th>\n",
              "      <td>java</td>\n",
              "      <td>4.0</td>\n",
              "      <td>0.031535</td>\n",
              "    </tr>\n",
              "    <tr>\n",
              "      <th>17</th>\n",
              "      <td>java</td>\n",
              "      <td>5.0</td>\n",
              "      <td>0.027095</td>\n",
              "    </tr>\n",
              "    <tr>\n",
              "      <th>18</th>\n",
              "      <td>js</td>\n",
              "      <td>0.0</td>\n",
              "      <td>0.054730</td>\n",
              "    </tr>\n",
              "    <tr>\n",
              "      <th>19</th>\n",
              "      <td>js</td>\n",
              "      <td>1.0</td>\n",
              "      <td>0.074743</td>\n",
              "    </tr>\n",
              "    <tr>\n",
              "      <th>20</th>\n",
              "      <td>js</td>\n",
              "      <td>2.0</td>\n",
              "      <td>0.067308</td>\n",
              "    </tr>\n",
              "    <tr>\n",
              "      <th>21</th>\n",
              "      <td>js</td>\n",
              "      <td>3.0</td>\n",
              "      <td>0.065716</td>\n",
              "    </tr>\n",
              "    <tr>\n",
              "      <th>22</th>\n",
              "      <td>js</td>\n",
              "      <td>4.0</td>\n",
              "      <td>0.060922</td>\n",
              "    </tr>\n",
              "    <tr>\n",
              "      <th>23</th>\n",
              "      <td>js</td>\n",
              "      <td>5.0</td>\n",
              "      <td>0.060247</td>\n",
              "    </tr>\n",
              "    <tr>\n",
              "      <th>24</th>\n",
              "      <td>ts</td>\n",
              "      <td>0.0</td>\n",
              "      <td>0.057564</td>\n",
              "    </tr>\n",
              "    <tr>\n",
              "      <th>25</th>\n",
              "      <td>ts</td>\n",
              "      <td>1.0</td>\n",
              "      <td>0.076119</td>\n",
              "    </tr>\n",
              "    <tr>\n",
              "      <th>26</th>\n",
              "      <td>ts</td>\n",
              "      <td>2.0</td>\n",
              "      <td>0.112066</td>\n",
              "    </tr>\n",
              "    <tr>\n",
              "      <th>27</th>\n",
              "      <td>ts</td>\n",
              "      <td>3.0</td>\n",
              "      <td>0.093750</td>\n",
              "    </tr>\n",
              "    <tr>\n",
              "      <th>28</th>\n",
              "      <td>ts</td>\n",
              "      <td>4.0</td>\n",
              "      <td>0.062069</td>\n",
              "    </tr>\n",
              "    <tr>\n",
              "      <th>29</th>\n",
              "      <td>ts</td>\n",
              "      <td>5.0</td>\n",
              "      <td>0.045050</td>\n",
              "    </tr>\n",
              "  </tbody>\n",
              "</table>\n",
              "</div>"
            ],
            "text/plain": [
              "    lang  release_number  out_code_tax\n",
              "0      c             0.0      0.077608\n",
              "1      c             1.0      0.076361\n",
              "2      c             2.0      0.058406\n",
              "3      c             3.0      0.058164\n",
              "4      c             4.0      0.049825\n",
              "5      c             5.0      0.047256\n",
              "6    cpp             0.0      0.042308\n",
              "7    cpp             1.0      0.052666\n",
              "8    cpp             2.0      0.087912\n",
              "9    cpp             3.0      0.075736\n",
              "10   cpp             4.0      0.079638\n",
              "11   cpp             5.0      0.088581\n",
              "12  java             0.0      0.039538\n",
              "13  java             1.0      0.032737\n",
              "14  java             2.0      0.034029\n",
              "15  java             3.0      0.030699\n",
              "16  java             4.0      0.031535\n",
              "17  java             5.0      0.027095\n",
              "18    js             0.0      0.054730\n",
              "19    js             1.0      0.074743\n",
              "20    js             2.0      0.067308\n",
              "21    js             3.0      0.065716\n",
              "22    js             4.0      0.060922\n",
              "23    js             5.0      0.060247\n",
              "24    ts             0.0      0.057564\n",
              "25    ts             1.0      0.076119\n",
              "26    ts             2.0      0.112066\n",
              "27    ts             3.0      0.093750\n",
              "28    ts             4.0      0.062069\n",
              "29    ts             5.0      0.045050"
            ]
          },
          "metadata": {
            "tags": []
          },
          "execution_count": 75
        }
      ]
    },
    {
      "cell_type": "code",
      "metadata": {
        "colab_type": "code",
        "outputId": "62c43464-0b04-47f1-ae7b-736a2b7da6d1",
        "id": "miOnXpVuZOQK",
        "colab": {
          "base_uri": "https://localhost:8080/",
          "height": 320
        }
      },
      "source": [
        "fig = plt.figure(1, figsize=(7, 5))\n",
        "ax = fig.add_subplot(111)\n",
        "for key, grp in df_median_by_lang.groupby(['lang']):\n",
        "  ax.plot(grp['release_number'], grp['out_code_tax'], label=key)\n",
        "ax.legend(bbox_to_anchor=(1.2, 1))\n",
        "plt.show()"
      ],
      "execution_count": 0,
      "outputs": [
        {
          "output_type": "display_data",
          "data": {
            "image/png": "[encoded data removed]",
            "text/plain": [
              "<Figure size 504x360 with 1 Axes>"
            ]
          },
          "metadata": {
            "tags": []
          }
        }
      ]
    },
    {
      "cell_type": "code",
      "metadata": {
        "id": "HRSsQf71c8AY",
        "colab_type": "code",
        "outputId": "515ac395-0780-4af6-dad5-f2beb9055cbb",
        "colab": {
          "base_uri": "https://localhost:8080/",
          "height": 238
        }
      },
      "source": [
        "table = pd.pivot_table(df_median_by_lang, values='out_code_tax', index='lang',\n",
        "                       columns='release_number', aggfunc=np.sum)\n",
        "table"
      ],
      "execution_count": 0,
      "outputs": [
        {
          "output_type": "execute_result",
          "data": {
            "text/html": [
              "<div>\n",
              "<style scoped>\n",
              "    .dataframe tbody tr th:only-of-type {\n",
              "        vertical-align: middle;\n",
              "    }\n",
              "\n",
              "    .dataframe tbody tr th {\n",
              "        vertical-align: top;\n",
              "    }\n",
              "\n",
              "    .dataframe thead th {\n",
              "        text-align: right;\n",
              "    }\n",
              "</style>\n",
              "<table border=\"1\" class=\"dataframe\">\n",
              "  <thead>\n",
              "    <tr style=\"text-align: right;\">\n",
              "      <th>release_number</th>\n",
              "      <th>0.0</th>\n",
              "      <th>1.0</th>\n",
              "      <th>2.0</th>\n",
              "      <th>3.0</th>\n",
              "      <th>4.0</th>\n",
              "      <th>5.0</th>\n",
              "    </tr>\n",
              "    <tr>\n",
              "      <th>lang</th>\n",
              "      <th></th>\n",
              "      <th></th>\n",
              "      <th></th>\n",
              "      <th></th>\n",
              "      <th></th>\n",
              "      <th></th>\n",
              "    </tr>\n",
              "  </thead>\n",
              "  <tbody>\n",
              "    <tr>\n",
              "      <th>c</th>\n",
              "      <td>0.077608</td>\n",
              "      <td>0.076361</td>\n",
              "      <td>0.058406</td>\n",
              "      <td>0.058164</td>\n",
              "      <td>0.049825</td>\n",
              "      <td>0.047256</td>\n",
              "    </tr>\n",
              "    <tr>\n",
              "      <th>cpp</th>\n",
              "      <td>0.042308</td>\n",
              "      <td>0.052666</td>\n",
              "      <td>0.087912</td>\n",
              "      <td>0.075736</td>\n",
              "      <td>0.079638</td>\n",
              "      <td>0.088581</td>\n",
              "    </tr>\n",
              "    <tr>\n",
              "      <th>java</th>\n",
              "      <td>0.039538</td>\n",
              "      <td>0.032737</td>\n",
              "      <td>0.034029</td>\n",
              "      <td>0.030699</td>\n",
              "      <td>0.031535</td>\n",
              "      <td>0.027095</td>\n",
              "    </tr>\n",
              "    <tr>\n",
              "      <th>js</th>\n",
              "      <td>0.054730</td>\n",
              "      <td>0.074743</td>\n",
              "      <td>0.067308</td>\n",
              "      <td>0.065716</td>\n",
              "      <td>0.060922</td>\n",
              "      <td>0.060247</td>\n",
              "    </tr>\n",
              "    <tr>\n",
              "      <th>ts</th>\n",
              "      <td>0.057564</td>\n",
              "      <td>0.076119</td>\n",
              "      <td>0.112066</td>\n",
              "      <td>0.093750</td>\n",
              "      <td>0.062069</td>\n",
              "      <td>0.045050</td>\n",
              "    </tr>\n",
              "  </tbody>\n",
              "</table>\n",
              "</div>"
            ],
            "text/plain": [
              "release_number       0.0       1.0       2.0       3.0       4.0       5.0\n",
              "lang                                                                      \n",
              "c               0.077608  0.076361  0.058406  0.058164  0.049825  0.047256\n",
              "cpp             0.042308  0.052666  0.087912  0.075736  0.079638  0.088581\n",
              "java            0.039538  0.032737  0.034029  0.030699  0.031535  0.027095\n",
              "js              0.054730  0.074743  0.067308  0.065716  0.060922  0.060247\n",
              "ts              0.057564  0.076119  0.112066  0.093750  0.062069  0.045050"
            ]
          },
          "metadata": {
            "tags": []
          },
          "execution_count": 80
        }
      ]
    }
  ]
}